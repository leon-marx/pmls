{
 "cells": [
  {
   "cell_type": "code",
   "execution_count": null,
   "metadata": {},
   "outputs": [],
   "source": [
    "from paper import *\n",
    "from animation import DynamicsAnimation"
   ]
  },
  {
   "cell_type": "code",
   "execution_count": null,
   "metadata": {},
   "outputs": [],
   "source": [
    "# Hyperparameters\n",
    "\n",
    "M0 = 4\n",
    "levels = 8\n",
    "alpha = 2.5\n",
    "N = M0 * 2 ** levels\n",
    "\n",
    "num_rep = 1000\n",
    "initials = np.ones(N)\n",
    "I_start = 100\n",
    "delta = 1\n",
    "low_kappa = 0.1\n",
    "high_kappa = 0.9\n",
    "\n",
    "f = 0.3"
   ]
  },
  {
   "cell_type": "code",
   "execution_count": null,
   "metadata": {},
   "outputs": [],
   "source": [
    "# HMN Network\n",
    "\n",
    "# links = get_HMN(M0, levels, alpha)\n",
    "np.save(\"data/links\", links)\n",
    "links = np.load(\"data/links.npy\")\n",
    "plot_HMN(links)"
   ]
  },
  {
   "cell_type": "code",
   "execution_count": null,
   "metadata": {},
   "outputs": [],
   "source": [
    "# FC Network for low kappa\n",
    "\n",
    "low_C = get_mean_C_MC(links, initials, num_rep, I_start, delta, low_kappa)\n",
    "plot_FC(low_C)"
   ]
  },
  {
   "cell_type": "code",
   "execution_count": null,
   "metadata": {},
   "outputs": [],
   "source": [
    "# FC Network for high kappa\n",
    "\n",
    "high_C = get_mean_C_MC(links, initials, num_rep, I_start, delta, high_kappa)\n",
    "plot_FC(high_C)"
   ]
  },
  {
   "cell_type": "code",
   "execution_count": null,
   "metadata": {},
   "outputs": [],
   "source": [
    "theta_range = np.linspace(0.0, 1.0, 100)\n",
    "low_s1_vals = []\n",
    "low_g_vals = []\n",
    "high_s1_vals = []\n",
    "high_g_vals = []\n",
    "\n",
    "for theta in tqdm(theta_range):\n",
    "    low_A = get_A(low_C, theta)\n",
    "    low_s1, low_g = get_s1_g(low_A)\n",
    "    low_s1_vals.append(low_s1)\n",
    "    low_g_vals.append(low_g)\n",
    "\n",
    "    high_A = get_A(high_C, theta)\n",
    "    high_s1, high_g = get_s1_g(high_A)\n",
    "    high_s1_vals.append(high_s1)\n",
    "    high_g_vals.append(high_g)"
   ]
  },
  {
   "cell_type": "code",
   "execution_count": null,
   "metadata": {},
   "outputs": [],
   "source": [
    "# Plot results\n",
    "\n",
    "low_s1_theta = theta_range[(np.abs(np.array(low_s1_vals) - f)).argmin()]\n",
    "low_g_theta = theta_range[(np.abs(np.array(low_g_vals) - f)).argmin()]\n",
    "high_s1_theta = theta_range[(np.abs(np.array(high_s1_vals) - f)).argmin()]\n",
    "high_g_theta = theta_range[(np.abs(np.array(high_g_vals) - f)).argmin()]\n",
    "\n",
    "plt.figure(figsize=(12, 8))\n",
    "plt.scatter(theta_range, np.array(low_s1_vals)/N, label=\"s1/N\", marker=\"o\", color=\"red\")\n",
    "plt.scatter(theta_range, np.array(low_g_vals)/N, label=\"g/N\", marker=\"s\", color=\"blue\")\n",
    "plt.axvline(low_s1_theta, xmin=0.001, xmax=0.3, linestyle=\"-\", color=\"red\")\n",
    "plt.axvline(low_g_theta, xmin=0.001, xmax=0.3, linestyle=\"-\", color=\"blue\")\n",
    "plt.yscale(\"log\")\n",
    "plt.ylim(0.001, 1.0)\n",
    "plt.title(f\"s1/N and g/N over theta for low kappa = {np.round(low_kappa, 4)}\", size=18)\n",
    "plt.xlabel(\"theta\", size=14)\n",
    "plt.ylabel(\"order parameter\", size=14)\n",
    "plt.legend(fontsize=12)\n",
    "plt.show()\n",
    "\n",
    "plt.figure(figsize=(12, 8))\n",
    "plt.scatter(theta_range, np.array(high_s1_vals)/N, label=\"s1/N\", marker=\"o\", color=\"red\")\n",
    "plt.scatter(theta_range, np.array(high_g_vals)/N, label=\"g/N\", marker=\"s\", color=\"blue\")\n",
    "plt.axvline(high_s1_theta, xmin=0.001, xmax=0.3, linestyle=\"-\", color=\"red\")\n",
    "plt.axvline(high_g_theta, xmin=0.001, xmax=0.3, linestyle=\"-\", color=\"blue\")\n",
    "plt.yscale(\"log\")\n",
    "plt.ylim(0.001, 1.0)\n",
    "plt.title(f\"s1/N and g/N over theta for high kappa = {np.round(high_kappa, 4)}\", size=18)\n",
    "plt.xlabel(\"theta\", size=14)\n",
    "plt.ylabel(\"order parameter\", size=14)\n",
    "plt.legend(fontsize=12)\n",
    "plt.show()"
   ]
  },
  {
   "cell_type": "code",
   "execution_count": null,
   "metadata": {},
   "outputs": [],
   "source": []
  }
 ],
 "metadata": {
  "kernelspec": {
   "display_name": "netscience",
   "language": "python",
   "name": "python3"
  },
  "language_info": {
   "codemirror_mode": {
    "name": "ipython",
    "version": 3
   },
   "file_extension": ".py",
   "mimetype": "text/x-python",
   "name": "python",
   "nbconvert_exporter": "python",
   "pygments_lexer": "ipython3",
   "version": "3.9.15"
  },
  "orig_nbformat": 4,
  "vscode": {
   "interpreter": {
    "hash": "8d6fe78df442a2821680c44ba2bb6e12dd7f31a25202dbe2c5c118e24ea90652"
   }
  }
 },
 "nbformat": 4,
 "nbformat_minor": 2
}
